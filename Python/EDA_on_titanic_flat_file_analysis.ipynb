{
 "cells": [
  {
   "cell_type": "code",
   "execution_count": 1,
   "id": "5addccbb",
   "metadata": {},
   "outputs": [],
   "source": [
    "import pandas as pd\n",
    "import numpy as np\n",
    "import matplotlib.pyplot as plt\n",
    "import seaborn as sns\n",
    "%matplotlib inline"
   ]
  },
  {
   "cell_type": "markdown",
   "id": "08a8e26d",
   "metadata": {},
   "source": [
    "### Gather data by reading the titanic csv file into this notebook"
   ]
  },
  {
   "cell_type": "code",
   "execution_count": 2,
   "id": "d20d3f33",
   "metadata": {},
   "outputs": [
    {
     "data": {
      "text/html": [
       "<div>\n",
       "<style scoped>\n",
       "    .dataframe tbody tr th:only-of-type {\n",
       "        vertical-align: middle;\n",
       "    }\n",
       "\n",
       "    .dataframe tbody tr th {\n",
       "        vertical-align: top;\n",
       "    }\n",
       "\n",
       "    .dataframe thead th {\n",
       "        text-align: right;\n",
       "    }\n",
       "</style>\n",
       "<table border=\"1\" class=\"dataframe\">\n",
       "  <thead>\n",
       "    <tr style=\"text-align: right;\">\n",
       "      <th></th>\n",
       "      <th>PassengerId</th>\n",
       "      <th>Survived</th>\n",
       "      <th>Pclass</th>\n",
       "      <th>Name</th>\n",
       "      <th>Sex</th>\n",
       "      <th>Age</th>\n",
       "      <th>SibSp</th>\n",
       "      <th>Parch</th>\n",
       "      <th>Ticket</th>\n",
       "      <th>Fare</th>\n",
       "      <th>Cabin</th>\n",
       "      <th>Embarked</th>\n",
       "    </tr>\n",
       "  </thead>\n",
       "  <tbody>\n",
       "    <tr>\n",
       "      <th>0</th>\n",
       "      <td>892</td>\n",
       "      <td>0</td>\n",
       "      <td>3</td>\n",
       "      <td>Kelly, Mr. James</td>\n",
       "      <td>male</td>\n",
       "      <td>34.5</td>\n",
       "      <td>0</td>\n",
       "      <td>0</td>\n",
       "      <td>330911</td>\n",
       "      <td>7.8292</td>\n",
       "      <td>NaN</td>\n",
       "      <td>Q</td>\n",
       "    </tr>\n",
       "    <tr>\n",
       "      <th>1</th>\n",
       "      <td>893</td>\n",
       "      <td>1</td>\n",
       "      <td>3</td>\n",
       "      <td>Wilkes, Mrs. James (Ellen Needs)</td>\n",
       "      <td>female</td>\n",
       "      <td>47.0</td>\n",
       "      <td>1</td>\n",
       "      <td>0</td>\n",
       "      <td>363272</td>\n",
       "      <td>7.0000</td>\n",
       "      <td>NaN</td>\n",
       "      <td>S</td>\n",
       "    </tr>\n",
       "    <tr>\n",
       "      <th>2</th>\n",
       "      <td>894</td>\n",
       "      <td>0</td>\n",
       "      <td>2</td>\n",
       "      <td>Myles, Mr. Thomas Francis</td>\n",
       "      <td>male</td>\n",
       "      <td>62.0</td>\n",
       "      <td>0</td>\n",
       "      <td>0</td>\n",
       "      <td>240276</td>\n",
       "      <td>9.6875</td>\n",
       "      <td>NaN</td>\n",
       "      <td>Q</td>\n",
       "    </tr>\n",
       "    <tr>\n",
       "      <th>3</th>\n",
       "      <td>895</td>\n",
       "      <td>0</td>\n",
       "      <td>3</td>\n",
       "      <td>Wirz, Mr. Albert</td>\n",
       "      <td>male</td>\n",
       "      <td>27.0</td>\n",
       "      <td>0</td>\n",
       "      <td>0</td>\n",
       "      <td>315154</td>\n",
       "      <td>8.6625</td>\n",
       "      <td>NaN</td>\n",
       "      <td>S</td>\n",
       "    </tr>\n",
       "    <tr>\n",
       "      <th>4</th>\n",
       "      <td>896</td>\n",
       "      <td>1</td>\n",
       "      <td>3</td>\n",
       "      <td>Hirvonen, Mrs. Alexander (Helga E Lindqvist)</td>\n",
       "      <td>female</td>\n",
       "      <td>22.0</td>\n",
       "      <td>1</td>\n",
       "      <td>1</td>\n",
       "      <td>3101298</td>\n",
       "      <td>12.2875</td>\n",
       "      <td>NaN</td>\n",
       "      <td>S</td>\n",
       "    </tr>\n",
       "  </tbody>\n",
       "</table>\n",
       "</div>"
      ],
      "text/plain": [
       "   PassengerId  Survived  Pclass  \\\n",
       "0          892         0       3   \n",
       "1          893         1       3   \n",
       "2          894         0       2   \n",
       "3          895         0       3   \n",
       "4          896         1       3   \n",
       "\n",
       "                                           Name     Sex   Age  SibSp  Parch  \\\n",
       "0                              Kelly, Mr. James    male  34.5      0      0   \n",
       "1              Wilkes, Mrs. James (Ellen Needs)  female  47.0      1      0   \n",
       "2                     Myles, Mr. Thomas Francis    male  62.0      0      0   \n",
       "3                              Wirz, Mr. Albert    male  27.0      0      0   \n",
       "4  Hirvonen, Mrs. Alexander (Helga E Lindqvist)  female  22.0      1      1   \n",
       "\n",
       "    Ticket     Fare Cabin Embarked  \n",
       "0   330911   7.8292   NaN        Q  \n",
       "1   363272   7.0000   NaN        S  \n",
       "2   240276   9.6875   NaN        Q  \n",
       "3   315154   8.6625   NaN        S  \n",
       "4  3101298  12.2875   NaN        S  "
      ]
     },
     "execution_count": 2,
     "metadata": {},
     "output_type": "execute_result"
    }
   ],
   "source": [
    "titanic_df = pd.read_csv(\"tested.csv\")\n",
    "titanic_df.head()"
   ]
  },
  {
   "cell_type": "markdown",
   "id": "3888e5d5",
   "metadata": {},
   "source": [
    "### Assess data to identify areas for data wrangling\n",
    "Visual and programmatic assessment is done at this stage to come up with candidates for wrangling"
   ]
  },
  {
   "cell_type": "code",
   "execution_count": 5,
   "id": "719ea156",
   "metadata": {},
   "outputs": [
    {
     "name": "stdout",
     "output_type": "stream",
     "text": [
      "<class 'pandas.core.frame.DataFrame'>\n",
      "RangeIndex: 418 entries, 0 to 417\n",
      "Data columns (total 12 columns):\n",
      " #   Column       Non-Null Count  Dtype  \n",
      "---  ------       --------------  -----  \n",
      " 0   PassengerId  418 non-null    int64  \n",
      " 1   Survived     418 non-null    int64  \n",
      " 2   Pclass       418 non-null    int64  \n",
      " 3   Name         418 non-null    object \n",
      " 4   Sex          418 non-null    object \n",
      " 5   Age          332 non-null    float64\n",
      " 6   SibSp        418 non-null    int64  \n",
      " 7   Parch        418 non-null    int64  \n",
      " 8   Ticket       418 non-null    object \n",
      " 9   Fare         417 non-null    float64\n",
      " 10  Cabin        91 non-null     object \n",
      " 11  Embarked     418 non-null    object \n",
      "dtypes: float64(2), int64(5), object(5)\n",
      "memory usage: 39.3+ KB\n"
     ]
    }
   ],
   "source": [
    "titanic_df.info()"
   ]
  },
  {
   "cell_type": "code",
   "execution_count": 6,
   "id": "ddd66c0b",
   "metadata": {},
   "outputs": [
    {
     "data": {
      "text/html": [
       "<div>\n",
       "<style scoped>\n",
       "    .dataframe tbody tr th:only-of-type {\n",
       "        vertical-align: middle;\n",
       "    }\n",
       "\n",
       "    .dataframe tbody tr th {\n",
       "        vertical-align: top;\n",
       "    }\n",
       "\n",
       "    .dataframe thead th {\n",
       "        text-align: right;\n",
       "    }\n",
       "</style>\n",
       "<table border=\"1\" class=\"dataframe\">\n",
       "  <thead>\n",
       "    <tr style=\"text-align: right;\">\n",
       "      <th></th>\n",
       "      <th>PassengerId</th>\n",
       "      <th>Survived</th>\n",
       "      <th>Pclass</th>\n",
       "      <th>Age</th>\n",
       "      <th>SibSp</th>\n",
       "      <th>Parch</th>\n",
       "      <th>Fare</th>\n",
       "    </tr>\n",
       "  </thead>\n",
       "  <tbody>\n",
       "    <tr>\n",
       "      <th>count</th>\n",
       "      <td>418.000000</td>\n",
       "      <td>418.000000</td>\n",
       "      <td>418.000000</td>\n",
       "      <td>332.000000</td>\n",
       "      <td>418.000000</td>\n",
       "      <td>418.000000</td>\n",
       "      <td>417.000000</td>\n",
       "    </tr>\n",
       "    <tr>\n",
       "      <th>mean</th>\n",
       "      <td>1100.500000</td>\n",
       "      <td>0.363636</td>\n",
       "      <td>2.265550</td>\n",
       "      <td>30.272590</td>\n",
       "      <td>0.447368</td>\n",
       "      <td>0.392344</td>\n",
       "      <td>35.627188</td>\n",
       "    </tr>\n",
       "    <tr>\n",
       "      <th>std</th>\n",
       "      <td>120.810458</td>\n",
       "      <td>0.481622</td>\n",
       "      <td>0.841838</td>\n",
       "      <td>14.181209</td>\n",
       "      <td>0.896760</td>\n",
       "      <td>0.981429</td>\n",
       "      <td>55.907576</td>\n",
       "    </tr>\n",
       "    <tr>\n",
       "      <th>min</th>\n",
       "      <td>892.000000</td>\n",
       "      <td>0.000000</td>\n",
       "      <td>1.000000</td>\n",
       "      <td>0.170000</td>\n",
       "      <td>0.000000</td>\n",
       "      <td>0.000000</td>\n",
       "      <td>0.000000</td>\n",
       "    </tr>\n",
       "    <tr>\n",
       "      <th>25%</th>\n",
       "      <td>996.250000</td>\n",
       "      <td>0.000000</td>\n",
       "      <td>1.000000</td>\n",
       "      <td>21.000000</td>\n",
       "      <td>0.000000</td>\n",
       "      <td>0.000000</td>\n",
       "      <td>7.895800</td>\n",
       "    </tr>\n",
       "    <tr>\n",
       "      <th>50%</th>\n",
       "      <td>1100.500000</td>\n",
       "      <td>0.000000</td>\n",
       "      <td>3.000000</td>\n",
       "      <td>27.000000</td>\n",
       "      <td>0.000000</td>\n",
       "      <td>0.000000</td>\n",
       "      <td>14.454200</td>\n",
       "    </tr>\n",
       "    <tr>\n",
       "      <th>75%</th>\n",
       "      <td>1204.750000</td>\n",
       "      <td>1.000000</td>\n",
       "      <td>3.000000</td>\n",
       "      <td>39.000000</td>\n",
       "      <td>1.000000</td>\n",
       "      <td>0.000000</td>\n",
       "      <td>31.500000</td>\n",
       "    </tr>\n",
       "    <tr>\n",
       "      <th>max</th>\n",
       "      <td>1309.000000</td>\n",
       "      <td>1.000000</td>\n",
       "      <td>3.000000</td>\n",
       "      <td>76.000000</td>\n",
       "      <td>8.000000</td>\n",
       "      <td>9.000000</td>\n",
       "      <td>512.329200</td>\n",
       "    </tr>\n",
       "  </tbody>\n",
       "</table>\n",
       "</div>"
      ],
      "text/plain": [
       "       PassengerId    Survived      Pclass         Age       SibSp  \\\n",
       "count   418.000000  418.000000  418.000000  332.000000  418.000000   \n",
       "mean   1100.500000    0.363636    2.265550   30.272590    0.447368   \n",
       "std     120.810458    0.481622    0.841838   14.181209    0.896760   \n",
       "min     892.000000    0.000000    1.000000    0.170000    0.000000   \n",
       "25%     996.250000    0.000000    1.000000   21.000000    0.000000   \n",
       "50%    1100.500000    0.000000    3.000000   27.000000    0.000000   \n",
       "75%    1204.750000    1.000000    3.000000   39.000000    1.000000   \n",
       "max    1309.000000    1.000000    3.000000   76.000000    8.000000   \n",
       "\n",
       "            Parch        Fare  \n",
       "count  418.000000  417.000000  \n",
       "mean     0.392344   35.627188  \n",
       "std      0.981429   55.907576  \n",
       "min      0.000000    0.000000  \n",
       "25%      0.000000    7.895800  \n",
       "50%      0.000000   14.454200  \n",
       "75%      0.000000   31.500000  \n",
       "max      9.000000  512.329200  "
      ]
     },
     "execution_count": 6,
     "metadata": {},
     "output_type": "execute_result"
    }
   ],
   "source": [
    "titanic_df.describe()"
   ]
  },
  {
   "cell_type": "code",
   "execution_count": 7,
   "id": "4cce4fe8",
   "metadata": {},
   "outputs": [
    {
     "data": {
      "text/plain": [
       "0    266\n",
       "1    152\n",
       "Name: Survived, dtype: int64"
      ]
     },
     "execution_count": 7,
     "metadata": {},
     "output_type": "execute_result"
    }
   ],
   "source": [
    "titanic_df.Survived.value_counts()"
   ]
  },
  {
   "cell_type": "code",
   "execution_count": 8,
   "id": "9c837bd5",
   "metadata": {},
   "outputs": [
    {
     "data": {
      "text/plain": [
       "3    218\n",
       "1    107\n",
       "2     93\n",
       "Name: Pclass, dtype: int64"
      ]
     },
     "execution_count": 8,
     "metadata": {},
     "output_type": "execute_result"
    }
   ],
   "source": [
    "titanic_df.Pclass.value_counts()"
   ]
  },
  {
   "cell_type": "code",
   "execution_count": 9,
   "id": "3ebf32c4",
   "metadata": {},
   "outputs": [
    {
     "data": {
      "text/plain": [
       "male      266\n",
       "female    152\n",
       "Name: Sex, dtype: int64"
      ]
     },
     "execution_count": 9,
     "metadata": {},
     "output_type": "execute_result"
    }
   ],
   "source": [
    "titanic_df.Sex.value_counts()"
   ]
  },
  {
   "cell_type": "code",
   "execution_count": 10,
   "id": "aa5f4152",
   "metadata": {},
   "outputs": [
    {
     "data": {
      "text/plain": [
       "B57 B59 B63 B66    3\n",
       "C78                2\n",
       "A34                2\n",
       "C55 C57            2\n",
       "C101               2\n",
       "                  ..\n",
       "C51                1\n",
       "A18                1\n",
       "C39                1\n",
       "D22                1\n",
       "F33                1\n",
       "Name: Cabin, Length: 76, dtype: int64"
      ]
     },
     "execution_count": 10,
     "metadata": {},
     "output_type": "execute_result"
    }
   ],
   "source": [
    "titanic_df.Cabin.value_counts()"
   ]
  },
  {
   "cell_type": "code",
   "execution_count": 11,
   "id": "3b2368b3",
   "metadata": {},
   "outputs": [
    {
     "data": {
      "text/plain": [
       "S    270\n",
       "C    102\n",
       "Q     46\n",
       "Name: Embarked, dtype: int64"
      ]
     },
     "execution_count": 11,
     "metadata": {},
     "output_type": "execute_result"
    }
   ],
   "source": [
    "titanic_df.Embarked.value_counts()"
   ]
  },
  {
   "cell_type": "code",
   "execution_count": 13,
   "id": "0a18c8d6",
   "metadata": {
    "scrolled": true
   },
   "outputs": [
    {
     "data": {
      "text/html": [
       "<div>\n",
       "<style scoped>\n",
       "    .dataframe tbody tr th:only-of-type {\n",
       "        vertical-align: middle;\n",
       "    }\n",
       "\n",
       "    .dataframe tbody tr th {\n",
       "        vertical-align: top;\n",
       "    }\n",
       "\n",
       "    .dataframe thead th {\n",
       "        text-align: right;\n",
       "    }\n",
       "</style>\n",
       "<table border=\"1\" class=\"dataframe\">\n",
       "  <thead>\n",
       "    <tr style=\"text-align: right;\">\n",
       "      <th></th>\n",
       "      <th>PassengerId</th>\n",
       "      <th>Survived</th>\n",
       "      <th>Pclass</th>\n",
       "      <th>Name</th>\n",
       "      <th>Sex</th>\n",
       "      <th>Age</th>\n",
       "      <th>SibSp</th>\n",
       "      <th>Parch</th>\n",
       "      <th>Ticket</th>\n",
       "      <th>Fare</th>\n",
       "      <th>Cabin</th>\n",
       "      <th>Embarked</th>\n",
       "    </tr>\n",
       "  </thead>\n",
       "  <tbody>\n",
       "    <tr>\n",
       "      <th>174</th>\n",
       "      <td>1066</td>\n",
       "      <td>0</td>\n",
       "      <td>3</td>\n",
       "      <td>Asplund, Mr. Carl Oscar Vilhelm Gustafsson</td>\n",
       "      <td>male</td>\n",
       "      <td>40.0</td>\n",
       "      <td>1</td>\n",
       "      <td>5</td>\n",
       "      <td>347077</td>\n",
       "      <td>31.3875</td>\n",
       "      <td>NaN</td>\n",
       "      <td>S</td>\n",
       "    </tr>\n",
       "    <tr>\n",
       "      <th>363</th>\n",
       "      <td>1255</td>\n",
       "      <td>0</td>\n",
       "      <td>3</td>\n",
       "      <td>Strilic, Mr. Ivan</td>\n",
       "      <td>male</td>\n",
       "      <td>27.0</td>\n",
       "      <td>0</td>\n",
       "      <td>0</td>\n",
       "      <td>315083</td>\n",
       "      <td>8.6625</td>\n",
       "      <td>NaN</td>\n",
       "      <td>S</td>\n",
       "    </tr>\n",
       "    <tr>\n",
       "      <th>109</th>\n",
       "      <td>1001</td>\n",
       "      <td>0</td>\n",
       "      <td>2</td>\n",
       "      <td>Swane, Mr. George</td>\n",
       "      <td>male</td>\n",
       "      <td>18.5</td>\n",
       "      <td>0</td>\n",
       "      <td>0</td>\n",
       "      <td>248734</td>\n",
       "      <td>13.0000</td>\n",
       "      <td>F</td>\n",
       "      <td>S</td>\n",
       "    </tr>\n",
       "    <tr>\n",
       "      <th>10</th>\n",
       "      <td>902</td>\n",
       "      <td>0</td>\n",
       "      <td>3</td>\n",
       "      <td>Ilieff, Mr. Ylio</td>\n",
       "      <td>male</td>\n",
       "      <td>NaN</td>\n",
       "      <td>0</td>\n",
       "      <td>0</td>\n",
       "      <td>349220</td>\n",
       "      <td>7.8958</td>\n",
       "      <td>NaN</td>\n",
       "      <td>S</td>\n",
       "    </tr>\n",
       "    <tr>\n",
       "      <th>194</th>\n",
       "      <td>1086</td>\n",
       "      <td>0</td>\n",
       "      <td>2</td>\n",
       "      <td>Drew, Master. Marshall Brines</td>\n",
       "      <td>male</td>\n",
       "      <td>8.0</td>\n",
       "      <td>0</td>\n",
       "      <td>2</td>\n",
       "      <td>28220</td>\n",
       "      <td>32.5000</td>\n",
       "      <td>NaN</td>\n",
       "      <td>S</td>\n",
       "    </tr>\n",
       "    <tr>\n",
       "      <th>231</th>\n",
       "      <td>1123</td>\n",
       "      <td>1</td>\n",
       "      <td>1</td>\n",
       "      <td>Willard, Miss. Constance</td>\n",
       "      <td>female</td>\n",
       "      <td>21.0</td>\n",
       "      <td>0</td>\n",
       "      <td>0</td>\n",
       "      <td>113795</td>\n",
       "      <td>26.5500</td>\n",
       "      <td>NaN</td>\n",
       "      <td>S</td>\n",
       "    </tr>\n",
       "    <tr>\n",
       "      <th>341</th>\n",
       "      <td>1233</td>\n",
       "      <td>0</td>\n",
       "      <td>3</td>\n",
       "      <td>Lundstrom, Mr. Thure Edvin</td>\n",
       "      <td>male</td>\n",
       "      <td>32.0</td>\n",
       "      <td>0</td>\n",
       "      <td>0</td>\n",
       "      <td>350403</td>\n",
       "      <td>7.5792</td>\n",
       "      <td>NaN</td>\n",
       "      <td>S</td>\n",
       "    </tr>\n",
       "    <tr>\n",
       "      <th>255</th>\n",
       "      <td>1147</td>\n",
       "      <td>0</td>\n",
       "      <td>3</td>\n",
       "      <td>MacKay, Mr. George William</td>\n",
       "      <td>male</td>\n",
       "      <td>NaN</td>\n",
       "      <td>0</td>\n",
       "      <td>0</td>\n",
       "      <td>C.A. 42795</td>\n",
       "      <td>7.5500</td>\n",
       "      <td>NaN</td>\n",
       "      <td>S</td>\n",
       "    </tr>\n",
       "    <tr>\n",
       "      <th>217</th>\n",
       "      <td>1109</td>\n",
       "      <td>0</td>\n",
       "      <td>1</td>\n",
       "      <td>Wick, Mr. George Dennick</td>\n",
       "      <td>male</td>\n",
       "      <td>57.0</td>\n",
       "      <td>1</td>\n",
       "      <td>1</td>\n",
       "      <td>36928</td>\n",
       "      <td>164.8667</td>\n",
       "      <td>NaN</td>\n",
       "      <td>S</td>\n",
       "    </tr>\n",
       "    <tr>\n",
       "      <th>112</th>\n",
       "      <td>1004</td>\n",
       "      <td>1</td>\n",
       "      <td>1</td>\n",
       "      <td>Evans, Miss. Edith Corse</td>\n",
       "      <td>female</td>\n",
       "      <td>36.0</td>\n",
       "      <td>0</td>\n",
       "      <td>0</td>\n",
       "      <td>PC 17531</td>\n",
       "      <td>31.6792</td>\n",
       "      <td>A29</td>\n",
       "      <td>C</td>\n",
       "    </tr>\n",
       "    <tr>\n",
       "      <th>319</th>\n",
       "      <td>1211</td>\n",
       "      <td>0</td>\n",
       "      <td>2</td>\n",
       "      <td>Jefferys, Mr. Ernest Wilfred</td>\n",
       "      <td>male</td>\n",
       "      <td>22.0</td>\n",
       "      <td>2</td>\n",
       "      <td>0</td>\n",
       "      <td>C.A. 31029</td>\n",
       "      <td>31.5000</td>\n",
       "      <td>NaN</td>\n",
       "      <td>S</td>\n",
       "    </tr>\n",
       "    <tr>\n",
       "      <th>393</th>\n",
       "      <td>1285</td>\n",
       "      <td>0</td>\n",
       "      <td>2</td>\n",
       "      <td>Gilbert, Mr. William</td>\n",
       "      <td>male</td>\n",
       "      <td>47.0</td>\n",
       "      <td>0</td>\n",
       "      <td>0</td>\n",
       "      <td>C.A. 30769</td>\n",
       "      <td>10.5000</td>\n",
       "      <td>NaN</td>\n",
       "      <td>S</td>\n",
       "    </tr>\n",
       "    <tr>\n",
       "      <th>283</th>\n",
       "      <td>1175</td>\n",
       "      <td>1</td>\n",
       "      <td>3</td>\n",
       "      <td>Touma, Miss. Maria Youssef</td>\n",
       "      <td>female</td>\n",
       "      <td>9.0</td>\n",
       "      <td>1</td>\n",
       "      <td>1</td>\n",
       "      <td>2650</td>\n",
       "      <td>15.2458</td>\n",
       "      <td>NaN</td>\n",
       "      <td>C</td>\n",
       "    </tr>\n",
       "    <tr>\n",
       "      <th>240</th>\n",
       "      <td>1132</td>\n",
       "      <td>1</td>\n",
       "      <td>1</td>\n",
       "      <td>Lindstrom, Mrs. Carl Johan (Sigrid Posse)</td>\n",
       "      <td>female</td>\n",
       "      <td>55.0</td>\n",
       "      <td>0</td>\n",
       "      <td>0</td>\n",
       "      <td>112377</td>\n",
       "      <td>27.7208</td>\n",
       "      <td>NaN</td>\n",
       "      <td>C</td>\n",
       "    </tr>\n",
       "    <tr>\n",
       "      <th>27</th>\n",
       "      <td>919</td>\n",
       "      <td>0</td>\n",
       "      <td>3</td>\n",
       "      <td>Daher, Mr. Shedid</td>\n",
       "      <td>male</td>\n",
       "      <td>22.5</td>\n",
       "      <td>0</td>\n",
       "      <td>0</td>\n",
       "      <td>2698</td>\n",
       "      <td>7.2250</td>\n",
       "      <td>NaN</td>\n",
       "      <td>C</td>\n",
       "    </tr>\n",
       "  </tbody>\n",
       "</table>\n",
       "</div>"
      ],
      "text/plain": [
       "     PassengerId  Survived  Pclass  \\\n",
       "174         1066         0       3   \n",
       "363         1255         0       3   \n",
       "109         1001         0       2   \n",
       "10           902         0       3   \n",
       "194         1086         0       2   \n",
       "231         1123         1       1   \n",
       "341         1233         0       3   \n",
       "255         1147         0       3   \n",
       "217         1109         0       1   \n",
       "112         1004         1       1   \n",
       "319         1211         0       2   \n",
       "393         1285         0       2   \n",
       "283         1175         1       3   \n",
       "240         1132         1       1   \n",
       "27           919         0       3   \n",
       "\n",
       "                                           Name     Sex   Age  SibSp  Parch  \\\n",
       "174  Asplund, Mr. Carl Oscar Vilhelm Gustafsson    male  40.0      1      5   \n",
       "363                           Strilic, Mr. Ivan    male  27.0      0      0   \n",
       "109                           Swane, Mr. George    male  18.5      0      0   \n",
       "10                             Ilieff, Mr. Ylio    male   NaN      0      0   \n",
       "194               Drew, Master. Marshall Brines    male   8.0      0      2   \n",
       "231                    Willard, Miss. Constance  female  21.0      0      0   \n",
       "341                  Lundstrom, Mr. Thure Edvin    male  32.0      0      0   \n",
       "255                  MacKay, Mr. George William    male   NaN      0      0   \n",
       "217                    Wick, Mr. George Dennick    male  57.0      1      1   \n",
       "112                    Evans, Miss. Edith Corse  female  36.0      0      0   \n",
       "319                Jefferys, Mr. Ernest Wilfred    male  22.0      2      0   \n",
       "393                        Gilbert, Mr. William    male  47.0      0      0   \n",
       "283                  Touma, Miss. Maria Youssef  female   9.0      1      1   \n",
       "240   Lindstrom, Mrs. Carl Johan (Sigrid Posse)  female  55.0      0      0   \n",
       "27                            Daher, Mr. Shedid    male  22.5      0      0   \n",
       "\n",
       "         Ticket      Fare Cabin Embarked  \n",
       "174      347077   31.3875   NaN        S  \n",
       "363      315083    8.6625   NaN        S  \n",
       "109      248734   13.0000     F        S  \n",
       "10       349220    7.8958   NaN        S  \n",
       "194       28220   32.5000   NaN        S  \n",
       "231      113795   26.5500   NaN        S  \n",
       "341      350403    7.5792   NaN        S  \n",
       "255  C.A. 42795    7.5500   NaN        S  \n",
       "217       36928  164.8667   NaN        S  \n",
       "112    PC 17531   31.6792   A29        C  \n",
       "319  C.A. 31029   31.5000   NaN        S  \n",
       "393  C.A. 30769   10.5000   NaN        S  \n",
       "283        2650   15.2458   NaN        C  \n",
       "240      112377   27.7208   NaN        C  \n",
       "27         2698    7.2250   NaN        C  "
      ]
     },
     "execution_count": 13,
     "metadata": {},
     "output_type": "execute_result"
    }
   ],
   "source": [
    "titanic_df.sample(15)"
   ]
  },
  {
   "cell_type": "markdown",
   "id": "75eb5152",
   "metadata": {},
   "source": [
    "#### Issues to clean\n",
    "- Missing data\n",
    "- Incorrect data types for the Sex,Embarked, Cabin,survived and pclass columns\n",
    "- change the dataframe headers have the first letter in uppercase"
   ]
  },
  {
   "cell_type": "markdown",
   "id": "9da657ef",
   "metadata": {},
   "source": [
    "### Clean data \n",
    "Here I work on the issues identified in the previous stage. "
   ]
  },
  {
   "cell_type": "code",
   "execution_count": 21,
   "id": "8eeb0eba",
   "metadata": {},
   "outputs": [],
   "source": [
    "# create a copy so as to preserve the original dataset\n",
    "titanic_df_clean = titanic_df.copy()"
   ]
  },
  {
   "cell_type": "markdown",
   "id": "04901c39",
   "metadata": {},
   "source": [
    "##### Missing data\n",
    "There is missing data in the Age, fare and cabin columns. I won't replace these values because doing so will distort the data and affect the conclusions that can be generated from the data. I will ignore these in my analysis and use these columns the way they are."
   ]
  },
  {
   "cell_type": "markdown",
   "id": "84533518",
   "metadata": {},
   "source": [
    "##### Change dataframe headers to lowercase\n",
    "I am changing these to make the analysis faster "
   ]
  },
  {
   "cell_type": "code",
   "execution_count": 22,
   "id": "45e4a2d5",
   "metadata": {},
   "outputs": [],
   "source": [
    "titanic_df_clean.columns = map(str.lower, titanic_df.columns)"
   ]
  },
  {
   "cell_type": "code",
   "execution_count": 23,
   "id": "ae29e755",
   "metadata": {},
   "outputs": [
    {
     "data": {
      "text/plain": [
       "Index(['passengerid', 'survived', 'pclass', 'name', 'sex', 'age', 'sibsp',\n",
       "       'parch', 'ticket', 'fare', 'cabin', 'embarked'],\n",
       "      dtype='object')"
      ]
     },
     "execution_count": 23,
     "metadata": {},
     "output_type": "execute_result"
    }
   ],
   "source": [
    "titanic_df_clean.columns"
   ]
  },
  {
   "cell_type": "markdown",
   "id": "0283188f",
   "metadata": {},
   "source": [
    "##### Incorrect datatypes\n",
    "Change column data types to the right data types. Columns to change: sex,embarked, cabin, pclass, survived"
   ]
  },
  {
   "cell_type": "code",
   "execution_count": 25,
   "id": "a944dd6d",
   "metadata": {},
   "outputs": [],
   "source": [
    "# Categorical \n",
    "titanic_df_clean.sex = titanic_df_clean.sex.astype('category')\n",
    "titanic_df_clean.embarked = titanic_df_clean.embarked.astype('category')\n",
    "titanic_df_clean.cabin = titanic_df_clean.cabin.astype('category')\n",
    "titanic_df_clean.survived = titanic_df_clean.survived.astype('category')\n",
    "titanic_df_clean.pclass = titanic_df_clean.pclass.astype('category')"
   ]
  },
  {
   "cell_type": "code",
   "execution_count": 26,
   "id": "fbc757f2",
   "metadata": {},
   "outputs": [
    {
     "name": "stdout",
     "output_type": "stream",
     "text": [
      "<class 'pandas.core.frame.DataFrame'>\n",
      "RangeIndex: 418 entries, 0 to 417\n",
      "Data columns (total 12 columns):\n",
      " #   Column       Non-Null Count  Dtype   \n",
      "---  ------       --------------  -----   \n",
      " 0   passengerid  418 non-null    int64   \n",
      " 1   survived     418 non-null    category\n",
      " 2   pclass       418 non-null    category\n",
      " 3   name         418 non-null    object  \n",
      " 4   sex          418 non-null    category\n",
      " 5   age          332 non-null    float64 \n",
      " 6   sibsp        418 non-null    int64   \n",
      " 7   parch        418 non-null    int64   \n",
      " 8   ticket       418 non-null    object  \n",
      " 9   fare         417 non-null    float64 \n",
      " 10  cabin        91 non-null     category\n",
      " 11  embarked     418 non-null    category\n",
      "dtypes: category(5), float64(2), int64(3), object(2)\n",
      "memory usage: 28.2+ KB\n"
     ]
    }
   ],
   "source": [
    "titanic_df_clean.info()"
   ]
  },
  {
   "cell_type": "markdown",
   "id": "ac5aa253",
   "metadata": {},
   "source": [
    "### Analyzing and Visualizing data"
   ]
  },
  {
   "cell_type": "code",
   "execution_count": 27,
   "id": "ef4edce0",
   "metadata": {},
   "outputs": [
    {
     "data": {
      "text/plain": [
       "418"
      ]
     },
     "execution_count": 27,
     "metadata": {},
     "output_type": "execute_result"
    }
   ],
   "source": [
    "# total passengers that boarded the titanic\n",
    "titanic_df_clean.passengerid.count()"
   ]
  },
  {
   "cell_type": "code",
   "execution_count": 32,
   "id": "a3ca50e1",
   "metadata": {},
   "outputs": [
    {
     "data": {
      "text/plain": [
       "152"
      ]
     },
     "execution_count": 32,
     "metadata": {},
     "output_type": "execute_result"
    }
   ],
   "source": [
    "# passengers that survived the shipwreck\n",
    "titanic_df_clean[titanic_df_clean['survived'] == 1].survived.count()"
   ]
  },
  {
   "cell_type": "code",
   "execution_count": 30,
   "id": "fc3e786b",
   "metadata": {
    "scrolled": true
   },
   "outputs": [
    {
     "data": {
      "text/html": [
       "<div>\n",
       "<style scoped>\n",
       "    .dataframe tbody tr th:only-of-type {\n",
       "        vertical-align: middle;\n",
       "    }\n",
       "\n",
       "    .dataframe tbody tr th {\n",
       "        vertical-align: top;\n",
       "    }\n",
       "\n",
       "    .dataframe thead th {\n",
       "        text-align: right;\n",
       "    }\n",
       "</style>\n",
       "<table border=\"1\" class=\"dataframe\">\n",
       "  <thead>\n",
       "    <tr style=\"text-align: right;\">\n",
       "      <th></th>\n",
       "      <th>name</th>\n",
       "      <th>age</th>\n",
       "      <th>sex</th>\n",
       "    </tr>\n",
       "  </thead>\n",
       "  <tbody>\n",
       "    <tr>\n",
       "      <th>1</th>\n",
       "      <td>Wilkes, Mrs. James (Ellen Needs)</td>\n",
       "      <td>47.0</td>\n",
       "      <td>female</td>\n",
       "    </tr>\n",
       "    <tr>\n",
       "      <th>4</th>\n",
       "      <td>Hirvonen, Mrs. Alexander (Helga E Lindqvist)</td>\n",
       "      <td>22.0</td>\n",
       "      <td>female</td>\n",
       "    </tr>\n",
       "    <tr>\n",
       "      <th>6</th>\n",
       "      <td>Connolly, Miss. Kate</td>\n",
       "      <td>30.0</td>\n",
       "      <td>female</td>\n",
       "    </tr>\n",
       "    <tr>\n",
       "      <th>8</th>\n",
       "      <td>Abrahim, Mrs. Joseph (Sophie Halaut Easu)</td>\n",
       "      <td>18.0</td>\n",
       "      <td>female</td>\n",
       "    </tr>\n",
       "    <tr>\n",
       "      <th>12</th>\n",
       "      <td>Snyder, Mrs. John Pillsbury (Nelle Stevenson)</td>\n",
       "      <td>23.0</td>\n",
       "      <td>female</td>\n",
       "    </tr>\n",
       "    <tr>\n",
       "      <th>...</th>\n",
       "      <td>...</td>\n",
       "      <td>...</td>\n",
       "      <td>...</td>\n",
       "    </tr>\n",
       "    <tr>\n",
       "      <th>409</th>\n",
       "      <td>Peacock, Miss. Treasteall</td>\n",
       "      <td>3.0</td>\n",
       "      <td>female</td>\n",
       "    </tr>\n",
       "    <tr>\n",
       "      <th>410</th>\n",
       "      <td>Naughton, Miss. Hannah</td>\n",
       "      <td>NaN</td>\n",
       "      <td>female</td>\n",
       "    </tr>\n",
       "    <tr>\n",
       "      <th>411</th>\n",
       "      <td>Minahan, Mrs. William Edward (Lillian E Thorpe)</td>\n",
       "      <td>37.0</td>\n",
       "      <td>female</td>\n",
       "    </tr>\n",
       "    <tr>\n",
       "      <th>412</th>\n",
       "      <td>Henriksson, Miss. Jenny Lovisa</td>\n",
       "      <td>28.0</td>\n",
       "      <td>female</td>\n",
       "    </tr>\n",
       "    <tr>\n",
       "      <th>414</th>\n",
       "      <td>Oliva y Ocana, Dona. Fermina</td>\n",
       "      <td>39.0</td>\n",
       "      <td>female</td>\n",
       "    </tr>\n",
       "  </tbody>\n",
       "</table>\n",
       "<p>152 rows × 3 columns</p>\n",
       "</div>"
      ],
      "text/plain": [
       "                                                name   age     sex\n",
       "1                   Wilkes, Mrs. James (Ellen Needs)  47.0  female\n",
       "4       Hirvonen, Mrs. Alexander (Helga E Lindqvist)  22.0  female\n",
       "6                               Connolly, Miss. Kate  30.0  female\n",
       "8          Abrahim, Mrs. Joseph (Sophie Halaut Easu)  18.0  female\n",
       "12     Snyder, Mrs. John Pillsbury (Nelle Stevenson)  23.0  female\n",
       "..                                               ...   ...     ...\n",
       "409                        Peacock, Miss. Treasteall   3.0  female\n",
       "410                           Naughton, Miss. Hannah   NaN  female\n",
       "411  Minahan, Mrs. William Edward (Lillian E Thorpe)  37.0  female\n",
       "412                   Henriksson, Miss. Jenny Lovisa  28.0  female\n",
       "414                     Oliva y Ocana, Dona. Fermina  39.0  female\n",
       "\n",
       "[152 rows x 3 columns]"
      ]
     },
     "execution_count": 30,
     "metadata": {},
     "output_type": "execute_result"
    }
   ],
   "source": [
    "# list of all survivors with their names,age and sex\n",
    "titanic_df_clean[titanic_df_clean['survived'] == 1].loc[:,['name','age','sex']]"
   ]
  },
  {
   "cell_type": "code",
   "execution_count": 54,
   "id": "cf7330b2",
   "metadata": {},
   "outputs": [
    {
     "data": {
      "text/plain": [
       "pclass\n",
       "1    107\n",
       "2     93\n",
       "3    218\n",
       "Name: survived, dtype: int64"
      ]
     },
     "execution_count": 54,
     "metadata": {},
     "output_type": "execute_result"
    }
   ],
   "source": [
    "# total passengers by class\n",
    "class_distribution = titanic_df_clean.groupby('pclass').survived.count()\n",
    "class_distribution"
   ]
  },
  {
   "cell_type": "code",
   "execution_count": 56,
   "id": "03216425",
   "metadata": {},
   "outputs": [
    {
     "data": {
      "text/plain": [
       "survived  pclass\n",
       "0         1          57\n",
       "          2          63\n",
       "          3         146\n",
       "1         1          50\n",
       "          2          30\n",
       "          3          72\n",
       "dtype: int64"
      ]
     },
     "execution_count": 56,
     "metadata": {},
     "output_type": "execute_result"
    }
   ],
   "source": [
    "# survival rate by passenger class\n",
    "distribution_pclass_survival = titanic_df_clean.groupby(['survived','pclass']).size()\n",
    "distribution_pclass_survival"
   ]
  },
  {
   "cell_type": "code",
   "execution_count": 44,
   "id": "d812f956",
   "metadata": {},
   "outputs": [
    {
     "data": {
      "text/plain": [
       "survived  sex   \n",
       "0         female      0\n",
       "          male      266\n",
       "1         female    152\n",
       "          male        0\n",
       "dtype: int64"
      ]
     },
     "execution_count": 44,
     "metadata": {},
     "output_type": "execute_result"
    }
   ],
   "source": [
    "# survival rate by sex\n",
    "titanic_df_clean.groupby(['survived','sex']).size()"
   ]
  },
  {
   "cell_type": "code",
   "execution_count": 47,
   "id": "b689ea1d",
   "metadata": {},
   "outputs": [
    {
     "data": {
      "text/plain": [
       "embarked\n",
       "C    102\n",
       "Q     46\n",
       "S    270\n",
       "Name: survived, dtype: int64"
      ]
     },
     "execution_count": 47,
     "metadata": {},
     "output_type": "execute_result"
    }
   ],
   "source": [
    "# where did most people board from?\n",
    "titanic_df_clean.groupby('embarked').survived.count()"
   ]
  },
  {
   "cell_type": "code",
   "execution_count": 48,
   "id": "e9d1c2cc",
   "metadata": {},
   "outputs": [
    {
     "data": {
      "text/plain": [
       "pclass\n",
       "1    94.280297\n",
       "2    22.202104\n",
       "3    12.459678\n",
       "Name: fare, dtype: float64"
      ]
     },
     "execution_count": 48,
     "metadata": {},
     "output_type": "execute_result"
    }
   ],
   "source": [
    "# average fare by class\n",
    "titanic_df_clean.groupby('pclass').fare.mean()"
   ]
  },
  {
   "cell_type": "code",
   "execution_count": 51,
   "id": "141f2529",
   "metadata": {},
   "outputs": [
    {
     "data": {
      "text/plain": [
       "cabin\n",
       "B57 B59 B63 B66    3\n",
       "C6                 2\n",
       "B45                2\n",
       "C78                2\n",
       "C89                2\n",
       "                  ..\n",
       "C51                1\n",
       "C53                1\n",
       "C54                1\n",
       "A18                1\n",
       "G6                 1\n",
       "Name: survived, Length: 76, dtype: int64"
      ]
     },
     "execution_count": 51,
     "metadata": {},
     "output_type": "execute_result"
    }
   ],
   "source": [
    "# did people share cabins? Which cabin had the most people and how many were they?\n",
    "titanic_df_clean.groupby('cabin').survived.count().sort_values(ascending=False)"
   ]
  },
  {
   "cell_type": "code",
   "execution_count": 52,
   "id": "a5cb26ba",
   "metadata": {},
   "outputs": [
    {
     "data": {
      "text/plain": [
       "pclass\n",
       "1    80\n",
       "2     7\n",
       "3     4\n",
       "Name: cabin, dtype: int64"
      ]
     },
     "execution_count": 52,
     "metadata": {},
     "output_type": "execute_result"
    }
   ],
   "source": [
    "# which cabins belonged to which passenger class and whats the distribution\n",
    "titanic_df_clean.groupby('pclass').cabin.count().sort_values(ascending=False)"
   ]
  },
  {
   "cell_type": "code",
   "execution_count": 53,
   "id": "318c11a4",
   "metadata": {},
   "outputs": [
    {
     "data": {
      "text/plain": [
       "embarked  pclass\n",
       "C         1          56\n",
       "          2          11\n",
       "          3          35\n",
       "Q         1           1\n",
       "          2           4\n",
       "          3          41\n",
       "S         1          50\n",
       "          2          78\n",
       "          3         142\n",
       "dtype: int64"
      ]
     },
     "execution_count": 53,
     "metadata": {},
     "output_type": "execute_result"
    }
   ],
   "source": [
    "# correlation between port of embarkation and passenger_class\n",
    "titanic_df_clean.groupby(['embarked','pclass']).size()"
   ]
  },
  {
   "cell_type": "markdown",
   "id": "023a4ac4",
   "metadata": {},
   "source": [
    "#### Insights\n",
    "1. 418 passengers boarded the titanic\n",
    "2. All the female aboard the titanic survived and all the men died\n",
    "3. The youngest person was less than a year old and the oldest was 76 years old\n",
    "4. 152 passengers survived and they were all women\n",
    "5. The biggest number of passengers aboard the ship were in third class with a total of 218, followed by first class at 107 and second class at 93\n",
    "6. Southampton port had the most passengers boarding the ship with 270 passengers boarding at that port, 102 from Cherbourg port and 46 from Queenstown\n",
    "7. Even though first class had the second highest number of passengers, they got the most cabins with 80 of the 92 cabins being taken by the passengers in first class. Most of the second and third class passengers in this dataset were not assigned cabins."
   ]
  },
  {
   "cell_type": "markdown",
   "id": "ceff90f3",
   "metadata": {},
   "source": [
    "### Visualizations"
   ]
  },
  {
   "cell_type": "code",
   "execution_count": 55,
   "id": "9ff50bdd",
   "metadata": {},
   "outputs": [
    {
     "data": {
      "image/png": "[encoded data removed]",
      "text/plain": [
       "<Figure size 432x288 with 1 Axes>"
      ]
     },
     "metadata": {
      "needs_background": "light"
     },
     "output_type": "display_data"
    }
   ],
   "source": [
    "# chart displaying distribution of passengers by pclass\n",
    "locations = [1,2,3]\n",
    "heights = class_distribution\n",
    "\n",
    "labels = ['first class','second class','third class']\n",
    "plt.bar(locations,heights,tick_label=labels)\n",
    "plt.title('Distribution of passengers by class')\n",
    "plt.xlabel('passenger classes')\n",
    "plt.ylabel('Total number of passengers')\n",
    "plt.show()"
   ]
  }
 ],
 "metadata": {
  "kernelspec": {
   "display_name": "Python 3",
   "language": "python",
   "name": "python3"
  },
  "language_info": {
   "codemirror_mode": {
    "name": "ipython",
    "version": 3
   },
   "file_extension": ".py",
   "mimetype": "text/x-python",
   "name": "python",
   "nbconvert_exporter": "python",
   "pygments_lexer": "ipython3",
   "version": "3.8.8"
  }
 },
 "nbformat": 4,
 "nbformat_minor": 5
}
